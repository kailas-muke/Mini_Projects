{
 "cells": [
  {
   "cell_type": "markdown",
   "metadata": {},
   "source": [
    "# 10. Text-Based Adventure"
   ]
  },
  {
   "cell_type": "code",
   "execution_count": null,
   "metadata": {},
   "outputs": [],
   "source": [
    "name = str(input(\"Enter Your Name\\n\"))\n",
    "print(f\"{name} you are stuck in a forest. Your task is to get out from the forest without dieing\")\n",
    "print(\"You are walking threw forest and suddenly a wolf comes in your way. Now you have two options\")\n",
    "print(\"1. Run\\n2. Climb the nearest Tree\")\n",
    "user = int(input(\"Choose one option 1 or 2\"))\n",
    "if user ==1:\n",
    "    print(\"You Died !!\")\n",
    "elif user ==2:\n",
    "    print(\"You Survived !!\")\n",
    "else:\n",
    "    print(\"Incorrect Input\")"
   ]
  },
  {
   "cell_type": "code",
   "execution_count": null,
   "metadata": {},
   "outputs": [],
   "source": []
  }
 ],
 "metadata": {
  "kernelspec": {
   "display_name": "Python 3",
   "language": "python",
   "name": "python3"
  },
  "language_info": {
   "codemirror_mode": {
    "name": "ipython",
    "version": 3
   },
   "file_extension": ".py",
   "mimetype": "text/x-python",
   "name": "python",
   "nbconvert_exporter": "python",
   "pygments_lexer": "ipython3",
   "version": "3.7.1"
  }
 },
 "nbformat": 4,
 "nbformat_minor": 2
}
