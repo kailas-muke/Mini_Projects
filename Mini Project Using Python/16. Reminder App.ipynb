{
 "cells": [
  {
   "cell_type": "markdown",
   "metadata": {},
   "source": [
    "# 16. Reminder App"
   ]
  },
  {
   "cell_type": "code",
   "execution_count": 2,
   "metadata": {},
   "outputs": [
    {
     "name": "stdout",
     "output_type": "stream",
     "text": [
      "Collecting win10toast\n",
      "  Downloading https://files.pythonhosted.org/packages/d4/ba/95c0ea87d9bcad68b90d8cb130a313b939c88d8338a2fed7c11eaee972fe/win10toast-0.9-py2.py3-none-any.whl\n",
      "Requirement already satisfied: setuptools in c:\\users\\mkailas\\anaconda3\\lib\\site-packages (from win10toast) (40.6.3)\n",
      "Requirement already satisfied: pypiwin32 in c:\\users\\mkailas\\anaconda3\\lib\\site-packages (from win10toast) (223)\n",
      "Requirement already satisfied: pywin32>=223 in c:\\users\\mkailas\\anaconda3\\lib\\site-packages (from pypiwin32->win10toast) (223)\n",
      "Installing collected packages: win10toast\n",
      "Successfully installed win10toast-0.9\n"
     ]
    }
   ],
   "source": [
    "!pip install win10toast"
   ]
  },
  {
   "cell_type": "code",
   "execution_count": 3,
   "metadata": {},
   "outputs": [
    {
     "name": "stdout",
     "output_type": "stream",
     "text": [
      "Title of reminder\n",
      "class on 5:30\n",
      "Message of reminder\n",
      "class\n",
      "In how many minutes?\n",
      "1\n",
      "Setting up reminder..\n",
      "all set!\n"
     ]
    }
   ],
   "source": [
    "from win10toast import ToastNotifier\n",
    "import time\n",
    "toaster = ToastNotifier()\n",
    "try:\n",
    "    print(\"Title of reminder\")\n",
    "    header = input()\n",
    "    print(\"Message of reminder\")\n",
    "    text = input()\n",
    "    print(\"In how many minutes?\")\n",
    "    time_min = input()\n",
    "    time_min=float(time_min)\n",
    "except:\n",
    "    header = input(\"Title of reminder\\n\")\n",
    "    text = input(\"Message of remindar\\n\")\n",
    "    time_min=float(input(\"In how many minutes?\\n\"))\n",
    "time_min = time_min * 60\n",
    "print(\"Setting up reminder..\")\n",
    "time.sleep(2)\n",
    "print(\"all set!\")\n",
    "time.sleep(time_min)\n",
    "toaster.show_toast(f\"{header}\",\n",
    "f\"{text}\",\n",
    "duration=10,\n",
    "threaded=True)\n",
    "while toaster.notification_active(): time.sleep(0.005)     "
   ]
  },
  {
   "cell_type": "code",
   "execution_count": null,
   "metadata": {},
   "outputs": [],
   "source": []
  }
 ],
 "metadata": {
  "kernelspec": {
   "display_name": "Python 3",
   "language": "python",
   "name": "python3"
  },
  "language_info": {
   "codemirror_mode": {
    "name": "ipython",
    "version": 3
   },
   "file_extension": ".py",
   "mimetype": "text/x-python",
   "name": "python",
   "nbconvert_exporter": "python",
   "pygments_lexer": "ipython3",
   "version": "3.7.1"
  }
 },
 "nbformat": 4,
 "nbformat_minor": 2
}
