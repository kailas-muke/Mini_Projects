{
 "cells": [
  {
   "cell_type": "markdown",
   "metadata": {},
   "source": [
    "# 21. Article Reader"
   ]
  },
  {
   "cell_type": "markdown",
   "metadata": {},
   "source": [
    "https://medium.com/pythoneers/python-script-that-reads-articles-on-your-behalf-70591fa9ed16"
   ]
  },
  {
   "cell_type": "code",
   "execution_count": 2,
   "metadata": {},
   "outputs": [
    {
     "name": "stdout",
     "output_type": "stream",
     "text": [
      "Requirement already satisfied: requests in c:\\users\\mkailas\\anaconda3\\lib\\site-packages (2.21.0)\n",
      "Requirement already satisfied: urllib3<1.25,>=1.21.1 in c:\\users\\mkailas\\anaconda3\\lib\\site-packages (from requests) (1.24.1)\n",
      "Requirement already satisfied: idna<2.9,>=2.5 in c:\\users\\mkailas\\anaconda3\\lib\\site-packages (from requests) (2.8)\n",
      "Requirement already satisfied: certifi>=2017.4.17 in c:\\users\\mkailas\\anaconda3\\lib\\site-packages (from requests) (2018.11.29)\n",
      "Requirement already satisfied: chardet<3.1.0,>=3.0.2 in c:\\users\\mkailas\\anaconda3\\lib\\site-packages (from requests) (3.0.4)\n",
      "Requirement already satisfied: beautifulsoup4 in c:\\users\\mkailas\\anaconda3\\lib\\site-packages (4.6.3)\n",
      "Requirement already satisfied: pyttsx3 in c:\\users\\mkailas\\anaconda3\\lib\\site-packages (2.90)\n",
      "Requirement already satisfied: pywin32; platform_system == \"Windows\" in c:\\users\\mkailas\\anaconda3\\lib\\site-packages (from pyttsx3) (223)\n",
      "Requirement already satisfied: pypiwin32; platform_system == \"Windows\" in c:\\users\\mkailas\\anaconda3\\lib\\site-packages (from pyttsx3) (223)\n",
      "Requirement already satisfied: comtypes; platform_system == \"Windows\" in c:\\users\\mkailas\\anaconda3\\lib\\site-packages (from pyttsx3) (1.1.7)\n"
     ]
    }
   ],
   "source": [
    "!pip install requests\n",
    "!pip install beautifulsoup4\n",
    "!pip install pyttsx3"
   ]
  },
  {
   "cell_type": "code",
   "execution_count": 3,
   "metadata": {},
   "outputs": [
    {
     "name": "stdout",
     "output_type": "stream",
     "text": [
      "Paste article url\n",
      "https://medium.com/pythoneers/python-script-that-reads-articles-on-your-behalf-70591fa9ed16\n"
     ]
    }
   ],
   "source": [
    "import pyttsx3\n",
    "import requests\n",
    "from bs4 import BeautifulSoup\n",
    "url = str(input(\"Paste article url\\n\"))\n",
    "\n",
    "def content(url):\n",
    "    res = requests.get(url)\n",
    "    soup = BeautifulSoup(res.text,'html.parser')\n",
    "    articles = []\n",
    "    for i in range(len(soup.select('.p'))):\n",
    "        article = soup.select('.p')[i].getText().strip()\n",
    "        articles.append(article)\n",
    "        contents = \" \".join(articles)\n",
    "    return contents\n",
    "engine = pyttsx3.init('sapi5')\n",
    "voices = engine.getProperty('voices')\n",
    "engine.setProperty('voice', voices[0].id)\n",
    "\n",
    "def speak(audio):\n",
    "    engine.say(audio)\n",
    "    engine.runAndWait()\n",
    "\n",
    "contents = content(url)\n",
    "## print(contents)      ## In case you want to see the content\n",
    "\n",
    "#engine.save_to_file\n",
    "#engine.runAndWait() ## In case if you want to save the article as a audio file"
   ]
  },
  {
   "cell_type": "code",
   "execution_count": null,
   "metadata": {},
   "outputs": [],
   "source": []
  }
 ],
 "metadata": {
  "kernelspec": {
   "display_name": "Python 3",
   "language": "python",
   "name": "python3"
  },
  "language_info": {
   "codemirror_mode": {
    "name": "ipython",
    "version": 3
   },
   "file_extension": ".py",
   "mimetype": "text/x-python",
   "name": "python",
   "nbconvert_exporter": "python",
   "pygments_lexer": "ipython3",
   "version": "3.7.1"
  }
 },
 "nbformat": 4,
 "nbformat_minor": 2
}
