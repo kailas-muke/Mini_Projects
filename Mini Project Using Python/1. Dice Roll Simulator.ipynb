{
 "cells": [
  {
   "cell_type": "markdown",
   "metadata": {},
   "source": [
    "# 1. Dice Roll Simulator"
   ]
  },
  {
   "cell_type": "code",
   "execution_count": 4,
   "metadata": {},
   "outputs": [
    {
     "name": "stdout",
     "output_type": "stream",
     "text": [
      "Choose One Option: \n",
      "1. roll the dice \n",
      "2. exit\n",
      "1\n",
      "4\n",
      "Choose One Option: \n",
      "1. roll the dice \n",
      "2. exit\n",
      "1\n",
      "6\n",
      "Choose One Option: \n",
      "1. roll the dice \n",
      "2. exit\n",
      "2\n"
     ]
    }
   ],
   "source": [
    "import random \n",
    "while True:\n",
    "    user = int(input(\"Choose One Option: \\n1. roll the dice \\n2. exit\\n\"))\n",
    "    if user==1:         \n",
    "        number = random.randint(1,6)         \n",
    "        print(number)     \n",
    "    else:         \n",
    "        break"
   ]
  },
  {
   "cell_type": "code",
   "execution_count": null,
   "metadata": {},
   "outputs": [],
   "source": []
  }
 ],
 "metadata": {
  "kernelspec": {
   "display_name": "Python 3",
   "language": "python",
   "name": "python3"
  },
  "language_info": {
   "codemirror_mode": {
    "name": "ipython",
    "version": 3
   },
   "file_extension": ".py",
   "mimetype": "text/x-python",
   "name": "python",
   "nbconvert_exporter": "python",
   "pygments_lexer": "ipython3",
   "version": "3.7.1"
  }
 },
 "nbformat": 4,
 "nbformat_minor": 2
}
