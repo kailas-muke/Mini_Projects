{
 "cells": [
  {
   "cell_type": "code",
   "execution_count": 3,
   "metadata": {},
   "outputs": [
    {
     "name": "stdout",
     "output_type": "stream",
     "text": [
      "4\n",
      "4\n",
      "4\n",
      "4\n",
      "4\n",
      "Happy New Year\n"
     ]
    }
   ],
   "source": [
    "def main():\n",
    "    countdown(5)\n",
    "    print(\"Happy New Year\")\n",
    "    \n",
    "def countdown(n):\n",
    "    for i in range(n):\n",
    "        print(n-1)\n",
    "main()"
   ]
  },
  {
   "cell_type": "code",
   "execution_count": 2,
   "metadata": {},
   "outputs": [],
   "source": []
  },
  {
   "cell_type": "code",
   "execution_count": 3,
   "metadata": {},
   "outputs": [
    {
     "name": "stdout",
     "output_type": "stream",
     "text": [
      "Enter number=8\n",
      "Too high\n",
      "Enter number=6\n",
      "Too high\n",
      "Enter number=4\n",
      "Too high\n",
      "Please try again! Better luck next time\n"
     ]
    }
   ],
   "source": [
    "#Guess the number\n",
    "import random\n",
    "number=random.randint(1,10)\n",
    "for i in range(3):\n",
    "    n = input(\"Enter number=\")\n",
    "    if int(n)>int(number):\n",
    "        print(\"Too high\")\n",
    "    elif int(n)<int(number):\n",
    "        print(\"Too low\")\n",
    "    else:\n",
    "        print(\"You got correct number\")\n",
    "        break\n",
    "print(\"Please try again! Better luck next time\")"
   ]
  },
  {
   "cell_type": "code",
   "execution_count": 11,
   "metadata": {},
   "outputs": [
    {
     "name": "stdout",
     "output_type": "stream",
     "text": [
      "Score:5\n",
      "#####\n"
     ]
    }
   ],
   "source": [
    "#Score\n",
    "\n",
    "def main():\n",
    "    score = int(input('Score:'))\n",
    "    for i in range(score):\n",
    "        print('#', end=\"\")\n",
    "    print()\n",
    "\n",
    "        \n",
    "main()"
   ]
  },
  {
   "cell_type": "code",
   "execution_count": 15,
   "metadata": {},
   "outputs": [
    {
     "name": "stdout",
     "output_type": "stream",
     "text": [
      "1 * 1 = 1\n",
      "1 * 2 = 2\n",
      "1 * 3 = 3\n",
      "1 * 4 = 4\n",
      "1 * 5 = 5\n",
      "1 * 6 = 6\n",
      "1 * 7 = 7\n",
      "1 * 8 = 8\n",
      "1 * 9 = 9\n",
      "2 * 1 = 2\n",
      "2 * 2 = 4\n",
      "2 * 3 = 6\n",
      "2 * 4 = 8\n",
      "2 * 5 = 10\n",
      "2 * 6 = 12\n",
      "2 * 7 = 14\n",
      "2 * 8 = 16\n",
      "2 * 9 = 18\n",
      "3 * 1 = 3\n",
      "3 * 2 = 6\n",
      "3 * 3 = 9\n",
      "3 * 4 = 12\n",
      "3 * 5 = 15\n",
      "3 * 6 = 18\n",
      "3 * 7 = 21\n",
      "3 * 8 = 24\n",
      "3 * 9 = 27\n",
      "4 * 1 = 4\n",
      "4 * 2 = 8\n",
      "4 * 3 = 12\n",
      "4 * 4 = 16\n",
      "4 * 5 = 20\n",
      "4 * 6 = 24\n",
      "4 * 7 = 28\n",
      "4 * 8 = 32\n",
      "4 * 9 = 36\n",
      "5 * 1 = 5\n",
      "5 * 2 = 10\n",
      "5 * 3 = 15\n",
      "5 * 4 = 20\n",
      "5 * 5 = 25\n",
      "5 * 6 = 30\n",
      "5 * 7 = 35\n",
      "5 * 8 = 40\n",
      "5 * 9 = 45\n",
      "6 * 1 = 6\n",
      "6 * 2 = 12\n",
      "6 * 3 = 18\n",
      "6 * 4 = 24\n",
      "6 * 5 = 30\n",
      "6 * 6 = 36\n",
      "6 * 7 = 42\n",
      "6 * 8 = 48\n",
      "6 * 9 = 54\n",
      "7 * 1 = 7\n",
      "7 * 2 = 14\n",
      "7 * 3 = 21\n",
      "7 * 4 = 28\n",
      "7 * 5 = 35\n",
      "7 * 6 = 42\n",
      "7 * 7 = 49\n",
      "7 * 8 = 56\n",
      "7 * 9 = 63\n",
      "8 * 1 = 8\n",
      "8 * 2 = 16\n",
      "8 * 3 = 24\n",
      "8 * 4 = 32\n",
      "8 * 5 = 40\n",
      "8 * 6 = 48\n",
      "8 * 7 = 56\n",
      "8 * 8 = 64\n",
      "8 * 9 = 72\n",
      "9 * 1 = 9\n",
      "9 * 2 = 18\n",
      "9 * 3 = 27\n",
      "9 * 4 = 36\n",
      "9 * 5 = 45\n",
      "9 * 6 = 54\n",
      "9 * 7 = 63\n",
      "9 * 8 = 72\n",
      "9 * 9 = 81\n"
     ]
    }
   ],
   "source": [
    "def main():\n",
    "    for i in range(1,10):\n",
    "        for j in range(1,10):\n",
    "            multiply(i,j)\n",
    "        \n",
    "def multiply(x,y):\n",
    "    product = x * y\n",
    "    print(x, '*', y, '=', product)\n",
    "    \n",
    "main()"
   ]
  },
  {
   "cell_type": "code",
   "execution_count": 22,
   "metadata": {},
   "outputs": [
    {
     "name": "stdout",
     "output_type": "stream",
     "text": [
      "Enter number:10\n",
      "##########\n",
      "##########\n",
      "##########\n",
      "##########\n",
      "##########\n",
      "##########\n",
      "##########\n",
      "##########\n",
      "##########\n",
      "##########\n",
      "\n"
     ]
    }
   ],
   "source": [
    "# Python grid\n",
    "def main():\n",
    "    n = int(input('Enter number:'))\n",
    "    for i in range(1,n+1):\n",
    "        for j in range(1,n+1):\n",
    "            print('#', end=\"\")\n",
    "        print()\n",
    "    print()\n",
    "main()"
   ]
  },
  {
   "cell_type": "code",
   "execution_count": 26,
   "metadata": {},
   "outputs": [
    {
     "name": "stdout",
     "output_type": "stream",
     "text": [
      "Enter number:5\n",
      "#\n",
      "##\n",
      "###\n",
      "####\n",
      "#####\n",
      "\n"
     ]
    }
   ],
   "source": [
    "# Python grid pyramid\n",
    "def main():\n",
    "    n = int(input('Enter number:'))\n",
    "    for i in range(1,n+1):\n",
    "        print('#'*i)\n",
    "    print()\n",
    "main()"
   ]
  },
  {
   "cell_type": "code",
   "execution_count": null,
   "metadata": {},
   "outputs": [],
   "source": []
  },
  {
   "cell_type": "code",
   "execution_count": 64,
   "metadata": {},
   "outputs": [
    {
     "name": "stdout",
     "output_type": "stream",
     "text": [
      "Enter your amount:-20\n",
      "Wrong Amount\n",
      "Yey!\n"
     ]
    }
   ],
   "source": [
    "# Your Dollers change\n",
    "\n",
    "def main():\n",
    "    Your_change()\n",
    "    print(\"Yey!\")\n",
    "        \n",
    "def Your_change():\n",
    "    amount = float(input(\"Enter your amount:\"))\n",
    "    if amount>=0:\n",
    "        penny=amount * 100\n",
    "        quarters = penny // 25\n",
    "        remain_q = penny % 25\n",
    "        dimes = remain_q // 10\n",
    "        remain_d = remain_q % 10\n",
    "        nickels = remain_d // 5\n",
    "        remain_n = remain_d % 5\n",
    "        pennies = remain_n\n",
    "        print('For this $', amount, 'you will get change in')\n",
    "        print(\"   \", quarters, 'quarters')\n",
    "        print(\"   \", dimes, 'dimes')\n",
    "        print(\"   \", nickels, 'nickels')\n",
    "        print(\"   \", round(pennies), 'pennies.')\n",
    "    else:\n",
    "        print(\"Wrong Amount\")\n",
    "        return amount\n",
    "main()"
   ]
  },
  {
   "cell_type": "code",
   "execution_count": 60,
   "metadata": {},
   "outputs": [
    {
     "name": "stdout",
     "output_type": "stream",
     "text": [
      "Enter your amount:0\n",
      "For this $ 0.0 you will get change in\n",
      "    0.0 quarters\n",
      "    0.0 dimes\n",
      "    0.0 nickels\n",
      "    0 pennies.\n"
     ]
    }
   ],
   "source": [
    "Your_change()"
   ]
  },
  {
   "cell_type": "code",
   "execution_count": null,
   "metadata": {},
   "outputs": [],
   "source": []
  }
 ],
 "metadata": {
  "kernelspec": {
   "display_name": "Python 3",
   "language": "python",
   "name": "python3"
  },
  "language_info": {
   "codemirror_mode": {
    "name": "ipython",
    "version": 3
   },
   "file_extension": ".py",
   "mimetype": "text/x-python",
   "name": "python",
   "nbconvert_exporter": "python",
   "pygments_lexer": "ipython3",
   "version": "3.7.1"
  }
 },
 "nbformat": 4,
 "nbformat_minor": 2
}
