{
 "cells": [
  {
   "cell_type": "markdown",
   "metadata": {},
   "source": [
    " # 22. Print bold text in Python"
   ]
  },
  {
   "cell_type": "code",
   "execution_count": 1,
   "metadata": {},
   "outputs": [
    {
     "name": "stdout",
     "output_type": "stream",
     "text": [
      "\u001b[1;03;31;46mHello\u001b[0;4;30;42m world\u001b[0m\n"
     ]
    }
   ],
   "source": [
    "print('\\x1b[1;03;31;46m'+'Hello'+ '\\x1b[0;4;30;42m' + ' world' '\\x1b[0m')"
   ]
  },
  {
   "cell_type": "markdown",
   "metadata": {},
   "source": [
    "# Open with:\n",
    "\n",
    "'\\x1b[XX;YY;ZZm'"
   ]
  },
  {
   "cell_type": "markdown",
   "metadata": {},
   "source": [
    "# Close with:\n",
    "\n",
    "'\\x1b[0m'"
   ]
  },
  {
   "cell_type": "code",
   "execution_count": 2,
   "metadata": {},
   "outputs": [
    {
     "ename": "SyntaxError",
     "evalue": "invalid syntax (<ipython-input-2-e2bf3dee6c24>, line 1)",
     "output_type": "error",
     "traceback": [
      "\u001b[1;36m  File \u001b[1;32m\"<ipython-input-2-e2bf3dee6c24>\"\u001b[1;36m, line \u001b[1;32m1\u001b[0m\n\u001b[1;33m    Text styling\u001b[0m\n\u001b[1;37m               ^\u001b[0m\n\u001b[1;31mSyntaxError\u001b[0m\u001b[1;31m:\u001b[0m invalid syntax\n"
     ]
    }
   ],
   "source": [
    "Text styling\n",
    "\n",
    "1 Increased intensity (it operates on highlight and text simultaneously in my case)\n",
    "3 Itallic\n",
    "4 Underline\n",
    "Text colors\n",
    "\n",
    "30 Black text\n",
    "31 Dark Red text\n",
    "32 Dark Green text\n",
    "33 Red text\n",
    "34 Dark blue text\n",
    "35 Purple text\n",
    "36 Blue text\n",
    "37 Gray text\n",
    "Bright text colors\n",
    "\n",
    "1;30 Gray text (Bright black)\n",
    "1;31 Orange text (Bright red)\n",
    "1;32 Bright Green text\n",
    "1;33 Bright Yellow text\n",
    "1;34 Bright Blue text\n",
    "1;35 Bright Purple text\n",
    "1;36 Bright Cyan text\n",
    "1;37 White text (Bright gray)\n",
    "Background colors (i.e. highlights)\n",
    "\n",
    "40 Black highlight\n",
    "41 Dark Red highlight\n",
    "42 Dark Green highlight\n",
    "43 Red highlight\n",
    "44 Dark blue highlight\n",
    "45 Purple highlight\n",
    "46 Blue highlight\n",
    "47 Gray highlight\n",
    "Note that 1;42 etc. also works similarly"
   ]
  },
  {
   "cell_type": "code",
   "execution_count": 3,
   "metadata": {},
   "outputs": [
    {
     "name": "stdout",
     "output_type": "stream",
     "text": [
      "\u001b[1mHello World !\u001b[0m\n"
     ]
    }
   ],
   "source": [
    "class color:\n",
    "    PURPLE = '\\033[95m'\n",
    "    CYAN = '\\033[96m'\n",
    "    DARKCYAN = '\\033[36m'\n",
    "    BLUE = '\\033[94m'\n",
    "    GREEN = '\\033[92m'\n",
    "    YELLOW = '\\033[93m'\n",
    "    RED = '\\033[91m'\n",
    "    BOLD = '\\033[1m'\n",
    "    UNDERLINE = '\\033[4m'\n",
    "    END = '\\033[0m'\n",
    "\n",
    "print(color.BOLD + 'Hello World !' + color.END)"
   ]
  },
  {
   "cell_type": "code",
   "execution_count": null,
   "metadata": {},
   "outputs": [],
   "source": []
  }
 ],
 "metadata": {
  "kernelspec": {
   "display_name": "Python 3",
   "language": "python",
   "name": "python3"
  },
  "language_info": {
   "codemirror_mode": {
    "name": "ipython",
    "version": 3
   },
   "file_extension": ".py",
   "mimetype": "text/x-python",
   "name": "python",
   "nbconvert_exporter": "python",
   "pygments_lexer": "ipython3",
   "version": "3.7.1"
  }
 },
 "nbformat": 4,
 "nbformat_minor": 2
}
