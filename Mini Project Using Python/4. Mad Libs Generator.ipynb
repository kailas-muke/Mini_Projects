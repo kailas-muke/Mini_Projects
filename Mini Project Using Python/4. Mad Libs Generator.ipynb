{
 "cells": [
  {
   "cell_type": "markdown",
   "metadata": {},
   "source": [
    "# 4. Mad Libs Generator"
   ]
  },
  {
   "cell_type": "code",
   "execution_count": 1,
   "metadata": {},
   "outputs": [
    {
     "name": "stdout",
     "output_type": "stream",
     "text": [
      "Enter a coloe:red\n",
      "Enter a plural noun:gg\n",
      "Enter a celebrity:bgb\n",
      "Roses are. red\n",
      "gg are blue\n",
      "I love bgb\n"
     ]
    }
   ],
   "source": [
    "color = input(\"Enter a coloe:\")\n",
    "pluralNoun = input(\"Enter a plural noun:\")\n",
    "celebrity = input(\"Enter a celebrity:\")\n",
    "print(\"Roses are.\", color)\n",
    "print(pluralNoun + \" are blue\")\n",
    "print(\"I love\", celebrity)"
   ]
  },
  {
   "cell_type": "code",
   "execution_count": null,
   "metadata": {},
   "outputs": [],
   "source": []
  }
 ],
 "metadata": {
  "kernelspec": {
   "display_name": "Python 3",
   "language": "python",
   "name": "python3"
  },
  "language_info": {
   "codemirror_mode": {
    "name": "ipython",
    "version": 3
   },
   "file_extension": ".py",
   "mimetype": "text/x-python",
   "name": "python",
   "nbconvert_exporter": "python",
   "pygments_lexer": "ipython3",
   "version": "3.7.1"
  }
 },
 "nbformat": 4,
 "nbformat_minor": 2
}
