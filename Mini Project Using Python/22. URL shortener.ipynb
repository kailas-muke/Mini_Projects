{
 "cells": [
  {
   "cell_type": "markdown",
   "metadata": {},
   "source": [
    "# 22. URL shortener"
   ]
  },
  {
   "cell_type": "code",
   "execution_count": null,
   "metadata": {},
   "outputs": [],
   "source": [
    "from __future__ import with_statement\n",
    "import contextlib\n",
    "try:\n",
    "    from urllib.parse import urlencode\n",
    "except ImportError:\n",
    "    from urllib import urlencode\n",
    "try:\n",
    "    from urllib.request import urlopen\n",
    "except ImportError:\n",
    "    from urllib2 import urlopen\n",
    "import sys\n",
    "\n",
    "def make_tiny(url):\n",
    "    request_url = ('http://tinyurl.com/api-create.php?' + \n",
    "    urlencode({'url':url}))\n",
    "    with contextlib.closing(urlopen(request_url)) as response:\n",
    "        return response.read().decode('utf-8')\n",
    "\n",
    "def main():\n",
    "    for tinyurl in map(make_tiny, sys.argv[1:]):\n",
    "        print(tinyurl)\n",
    "\n",
    "if __name__ == '__main__':\n",
    "    main()"
   ]
  },
  {
   "cell_type": "code",
   "execution_count": null,
   "metadata": {},
   "outputs": [],
   "source": [
    "-----------------------------OUTPUT------------------------\n",
    "python url_shortener.py https://www.wikipedia.org/\n",
    "https://tinyurl.com/buf3qt3"
   ]
  },
  {
   "cell_type": "code",
   "execution_count": null,
   "metadata": {},
   "outputs": [],
   "source": []
  }
 ],
 "metadata": {
  "kernelspec": {
   "display_name": "Python 3",
   "language": "python",
   "name": "python3"
  },
  "language_info": {
   "codemirror_mode": {
    "name": "ipython",
    "version": 3
   },
   "file_extension": ".py",
   "mimetype": "text/x-python",
   "name": "python",
   "nbconvert_exporter": "python",
   "pygments_lexer": "ipython3",
   "version": "3.7.1"
  }
 },
 "nbformat": 4,
 "nbformat_minor": 2
}
