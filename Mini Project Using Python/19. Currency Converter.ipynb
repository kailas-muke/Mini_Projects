{
 "cells": [
  {
   "cell_type": "markdown",
   "metadata": {},
   "source": [
    "# 19. Currency Converter"
   ]
  },
  {
   "cell_type": "code",
   "execution_count": 2,
   "metadata": {},
   "outputs": [
    {
     "name": "stdout",
     "output_type": "stream",
     "text": [
      "Collecting forex-python\n",
      "  Downloading https://files.pythonhosted.org/packages/1a/ff/f3f6da21e8fdc6ece355643871749c79a3191fed1cba088cbd0dc597dfee/forex-python-1.5.tar.gz\n",
      "Requirement already satisfied: requests in c:\\users\\mkailas\\anaconda3\\lib\\site-packages (from forex-python) (2.21.0)\n",
      "Collecting simplejson (from forex-python)\n",
      "  Downloading https://files.pythonhosted.org/packages/ae/fd/36160c9ba8623b37e85ee40044046f965c050c29630536d55d83bc7a1c4e/simplejson-3.17.2-cp37-cp37m-win_amd64.whl (73kB)\n",
      "Requirement already satisfied: certifi>=2017.4.17 in c:\\users\\mkailas\\anaconda3\\lib\\site-packages (from requests->forex-python) (2018.11.29)\n",
      "Requirement already satisfied: chardet<3.1.0,>=3.0.2 in c:\\users\\mkailas\\anaconda3\\lib\\site-packages (from requests->forex-python) (3.0.4)\n",
      "Requirement already satisfied: urllib3<1.25,>=1.21.1 in c:\\users\\mkailas\\anaconda3\\lib\\site-packages (from requests->forex-python) (1.24.1)\n",
      "Requirement already satisfied: idna<2.9,>=2.5 in c:\\users\\mkailas\\anaconda3\\lib\\site-packages (from requests->forex-python) (2.8)\n",
      "Building wheels for collected packages: forex-python\n",
      "  Running setup.py bdist_wheel for forex-python: started\n",
      "  Running setup.py bdist_wheel for forex-python: finished with status 'done'\n",
      "  Stored in directory: C:\\Users\\MKailas\\AppData\\Local\\pip\\Cache\\wheels\\c9\\ee\\ce\\a0c208e72d186b786b0c51914675bc03d1bf00b8ed9406271b\n",
      "Successfully built forex-python\n",
      "Installing collected packages: simplejson, forex-python\n",
      "Successfully installed forex-python-1.5 simplejson-3.17.2\n"
     ]
    }
   ],
   "source": [
    "!pip install forex-python"
   ]
  },
  {
   "cell_type": "code",
   "execution_count": null,
   "metadata": {},
   "outputs": [],
   "source": [
    "from forex_python.converter import CurrencyRates\n",
    "c = CurrencyRates()\n",
    "amount = int(input(\"Enter The Amount You Want To Convert\\n\"))\n",
    "from_currency = input(\"From\\n\").upper()\n",
    "to_currency = input(\"To\\n\").upper()\n",
    "print(from_currency, \"To\", to_currency, amount)\n",
    "result=c.convert(from_currency, to_currency,amount)\n",
    "print(result)"
   ]
  },
  {
   "cell_type": "code",
   "execution_count": null,
   "metadata": {},
   "outputs": [],
   "source": []
  }
 ],
 "metadata": {
  "kernelspec": {
   "display_name": "Python 3",
   "language": "python",
   "name": "python3"
  },
  "language_info": {
   "codemirror_mode": {
    "name": "ipython",
    "version": 3
   },
   "file_extension": ".py",
   "mimetype": "text/x-python",
   "name": "python",
   "nbconvert_exporter": "python",
   "pygments_lexer": "ipython3",
   "version": "3.7.1"
  }
 },
 "nbformat": 4,
 "nbformat_minor": 2
}
