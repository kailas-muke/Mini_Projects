{
 "cells": [
  {
   "cell_type": "markdown",
   "metadata": {},
   "source": [
    "# 5. Guess The Number Game"
   ]
  },
  {
   "cell_type": "code",
   "execution_count": 2,
   "metadata": {},
   "outputs": [
    {
     "name": "stdout",
     "output_type": "stream",
     "text": [
      "guess the number=6\n",
      "Your guess is too low.\n",
      "guess the number=7\n",
      "Hurray!!\n",
      "you guessed the number right it's 7\n"
     ]
    }
   ],
   "source": [
    "import random\n",
    "number = random.randint(1,10)\n",
    "for i in range(0,3):\n",
    "    user = int(input(\"guess the number=\"))\n",
    "    if user == number:\n",
    "        print(\"Hurray!!\")\n",
    "        print(f\"you guessed the number right it's {number}\")\n",
    "        break\n",
    "    elif user>number:\n",
    "        print(\"Your guess is too high\")\n",
    "    elif user<number:\n",
    "        print(\"Your guess is too low.\")\n",
    "else:\n",
    "    print(f\"Nice Try!, but the number is {number}\")"
   ]
  },
  {
   "cell_type": "code",
   "execution_count": null,
   "metadata": {},
   "outputs": [],
   "source": []
  }
 ],
 "metadata": {
  "kernelspec": {
   "display_name": "Python 3",
   "language": "python",
   "name": "python3"
  },
  "language_info": {
   "codemirror_mode": {
    "name": "ipython",
    "version": 3
   },
   "file_extension": ".py",
   "mimetype": "text/x-python",
   "name": "python",
   "nbconvert_exporter": "python",
   "pygments_lexer": "ipython3",
   "version": "3.7.1"
  }
 },
 "nbformat": 4,
 "nbformat_minor": 2
}
